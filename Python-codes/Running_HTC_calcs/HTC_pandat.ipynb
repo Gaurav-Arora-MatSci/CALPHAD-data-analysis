{
 "cells": [
  {
   "cell_type": "markdown",
   "id": "eae75a13-f9b9-4f84-bd5a-374eeb1ef673",
   "metadata": {},
   "source": [
    "## This code is used to run CALPHAD simulations. PLease note that jupyter notebook used for running the code has to be launched using Computherm installed Panpython pacakge. It reads two input files and runs line calculation for generating phase diagrams."
   ]
  },
  {
   "cell_type": "markdown",
   "id": "81cffcba",
   "metadata": {},
   "source": [
    "### Importing all the modules and loading the necessary path for accesing pandat package"
   ]
  },
  {
   "cell_type": "code",
   "execution_count": null,
   "id": "062a1291",
   "metadata": {},
   "outputs": [],
   "source": [
    "import os\n",
    "import socket\n",
    "import multiprocessing as mp\n",
    "from panpython.system import System\n",
    "from panpython.task.htc import HtcMesh\n",
    "import pickle\n",
    "pandat = r\"C:\\Program Files\\CompuTherm LLC\\Pandat 2022a\\bin\\pandat.exe\""
   ]
  },
  {
   "cell_type": "markdown",
   "id": "634071c3-9822-4f75-b585-8acfbfb399eb",
   "metadata": {},
   "source": [
    "### Defining the path for the input files."
   ]
  },
  {
   "cell_type": "code",
   "execution_count": null,
   "id": "9901ad10",
   "metadata": {},
   "outputs": [],
   "source": [
    "# Point the directory to the current working folder\n",
    "current_path = os.getcwd()\n",
    "database_file = os.path.join(current_path,\"sample_batch_file.pbfx\")\n",
    "config_file = os.path.join(current_path,\"sample_input_points.JSON\")\n",
    "dump_path = os.path.join(current_path, \"output\")"
   ]
  },
  {
   "cell_type": "code",
   "execution_count": null,
   "id": "441abc1d",
   "metadata": {},
   "outputs": [],
   "source": [
    "#################\n",
    "# set thread number\n",
    "# note: if your number is bigger than system capability, the number will set to max\n",
    "# available thread number on your system\n",
    "thread_number: int = 24\n",
    "print('>> Max thread  number on machine: ', socket.gethostname(), ' is ', mp.cpu_count())\n",
    "if thread_number > mp.cpu_count():\n",
    "    thread_number = mp.cpu_count()\n",
    "print('>> Thread number is set to ', thread_number)"
   ]
  },
  {
   "cell_type": "markdown",
   "id": "a3f84599-de66-4f7c-8257-d6d4e56fa19f",
   "metadata": {},
   "source": [
    "### Running the calculations"
   ]
  },
  {
   "cell_type": "code",
   "execution_count": null,
   "id": "649b5c06",
   "metadata": {},
   "outputs": [],
   "source": [
    "m_system = System(pandat=pandat, dump_path=dump_path)\n",
    "m_system.add_task(task_instance=HtcMesh(batch_file=database_file, config_file=config_file, thread_num=thread_number))\n",
    "if __name__ == '__main__':\n",
    "    mp.freeze_support()\n",
    "    m_system.run()\n",
    "\n",
    "print('done.')"
   ]
  },
  {
   "cell_type": "markdown",
   "id": "084e5713",
   "metadata": {},
   "source": [
    "### Post Processing the data"
   ]
  },
  {
   "cell_type": "code",
   "execution_count": null,
   "id": "a00772b8",
   "metadata": {},
   "outputs": [],
   "source": [
    "from panpython.sdk.stat.htc_result_post_processing import PandatHTCResultProcessor\n",
    "import os\n",
    "\n",
    "cal_type = 'line'\n",
    "htc_result_parent_path = 'output/intermediate'\n",
    "file_name = 'Default.dat.table'\n",
    "\n",
    "dump_path = os.path.join(current_path, 'output')\n",
    "file_output = 'merged.csv'\n",
    "\n",
    "if __name__ == \"__main__\":\n",
    "    # file_name = PandatHTCResultProcessor.get_table_group(cal_type, htc_result_parent_path)[0]\n",
    "\n",
    "    m_processor = PandatHTCResultProcessor(parent_path=htc_result_parent_path,\n",
    "                                           file_name=file_name,\n",
    "                                           cal_type=cal_type)\n",
    "    m_processor.save_to_csv(output_path=dump_path, output_file=file_output)"
   ]
  }
 ],
 "metadata": {
  "kernelspec": {
   "display_name": "Python 3 (ipykernel)",
   "language": "python",
   "name": "python3"
  },
  "language_info": {
   "codemirror_mode": {
    "name": "ipython",
    "version": 3
   },
   "file_extension": ".py",
   "mimetype": "text/x-python",
   "name": "python",
   "nbconvert_exporter": "python",
   "pygments_lexer": "ipython3",
   "version": "3.9.13"
  }
 },
 "nbformat": 4,
 "nbformat_minor": 5
}
